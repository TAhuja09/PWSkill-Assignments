{
 "cells": [
  {
   "cell_type": "code",
   "execution_count": 2,
   "id": "f6a114a7-dca3-45cd-ab0f-5f33d21a9f37",
   "metadata": {},
   "outputs": [
    {
     "name": "stdout",
     "output_type": "stream",
     "text": [
      "Before swap x 5 and y 10\n",
      "After swap x 10 and y 5\n"
     ]
    }
   ],
   "source": [
    "1. # step 1 declaring variables first\n",
    "x = 5\n",
    "y = 10\n",
    "\n",
    "# step 2 create swap function\n",
    "def swap_variables(x, y):\n",
    "    print(f\"Before swap x {x} and y {y}\")\n",
    "    x, y = y, x\n",
    "    print(f\"After swap x {x} and y {y}\")\n",
    "    \n",
    "swap_variables(x,y)"
   ]
  },
  {
   "cell_type": "code",
   "execution_count": 8,
   "id": "ab90a075-8ba7-4e01-96ea-851215e90b3f",
   "metadata": {},
   "outputs": [
    {
     "name": "stdin",
     "output_type": "stream",
     "text": [
      "Enter the length of the rectangle 2\n",
      "Enter the widht of the rectangle 5\n"
     ]
    },
    {
     "name": "stdout",
     "output_type": "stream",
     "text": [
      "Total Area of rectabgle is: 10.0\n"
     ]
    }
   ],
   "source": [
    "2. # setting variable for user input for length and width\n",
    "l = float(input(\"Enter the length of the rectangle\"))\n",
    "w = float(input(\"Enter the widht of the rectangle\"))\n",
    "area = l * w # putting formula for area of rectangle\n",
    "\n",
    "# displaining result by using print function\n",
    "print(\"Total Area of rectabgle is:\", area)"
   ]
  },
  {
   "cell_type": "code",
   "execution_count": 11,
   "id": "22bed161-0d2a-447f-a2d3-1c1ef9e8338e",
   "metadata": {},
   "outputs": [
    {
     "name": "stdin",
     "output_type": "stream",
     "text": [
      "Enter the temperature in Celsius temprature 10\n"
     ]
    },
    {
     "name": "stdout",
     "output_type": "stream",
     "text": [
      "10.0 Celsius is equal to 50.00 Fahrenheit\n"
     ]
    }
   ],
   "source": [
    "3. #setting variable for user input for Celsius \n",
    "c_temp = float(input(\"Enter the temperature in Celsius temprature\"))\n",
    "\n",
    "# converting user entered celcius temperature into Fahrenheit\n",
    "f_temp = (c_temp * 9/5) + 32\n",
    "\n",
    "# displaying the result\n",
    "\n",
    "print(f\"{c_temp} Celsius is equal to {f_temp:.2f} Fahrenheit\")\n",
    "\n",
    "\n"
   ]
  },
  {
   "cell_type": "markdown",
   "id": "0964aca2-5977-4286-ae1c-38d3e23d88b8",
   "metadata": {},
   "source": [
    "String Based Questions"
   ]
  },
  {
   "cell_type": "code",
   "execution_count": 17,
   "id": "7efa8065-db84-4027-95c1-8be6366bff89",
   "metadata": {},
   "outputs": [
    {
     "name": "stdin",
     "output_type": "stream",
     "text": [
      "Enter your string here to calculate its length Tejsingh\n"
     ]
    },
    {
     "name": "stdout",
     "output_type": "stream",
     "text": [
      "length of your string is 8\n"
     ]
    }
   ],
   "source": [
    "# 1. claculating length of string program\n",
    "# setting user input as string\n",
    "user_string = input(\"Enter your string here to calculate its length\")\n",
    "\n",
    "# using len function to lenght of string\n",
    "print(\"length of your string is\", len(user_string))"
   ]
  },
  {
   "cell_type": "code",
   "execution_count": 33,
   "id": "82a346b9-2c01-4f60-aaa9-5a47e80581ab",
   "metadata": {},
   "outputs": [
    {
     "name": "stdin",
     "output_type": "stream",
     "text": [
      "Enter your string here to count of vovels This is my first vovel program.\n"
     ]
    },
    {
     "name": "stdout",
     "output_type": "stream",
     "text": [
      "Number of volves in your srtings: 7\n"
     ]
    }
   ],
   "source": [
    "# 2. counts number vovels in input string\n",
    "user_string = input(\"Enter your string here to count of vovels\")\n",
    "\n",
    "# vovels count intialising variable\n",
    "vowel_count = 0\n",
    "\n",
    "# check if the character is a vovel (A,E,I,O,U,a,e,i,o,u)\n",
    "for char in user_string:\n",
    "    \n",
    "    if char in \"aeiouAEIOU\":\n",
    "    \n",
    "        vowel_count += 1\n",
    "    \n",
    "# display the result\n",
    "print(\"Number of volves in your srtings:\", vowel_count)"
   ]
  },
  {
   "cell_type": "code",
   "execution_count": 35,
   "id": "55d3714f-b450-4b39-8684-e6a282e46877",
   "metadata": {},
   "outputs": [
    {
     "name": "stdin",
     "output_type": "stream",
     "text": [
      "Enter your string here to reverse Hello!!!\n"
     ]
    },
    {
     "name": "stdout",
     "output_type": "stream",
     "text": [
      "your reverse string is !!!olleH\n"
     ]
    }
   ],
   "source": [
    "# 3. reversing the string\n",
    "user_string = input(\"Enter your string here to reverse\")\n",
    "\n",
    "# for reversing string\n",
    "reverse_string = user_string[::-1]\n",
    "\n",
    "# displaying result\n",
    "print(\"your reverse string is\", reverse_string)"
   ]
  },
  {
   "cell_type": "code",
   "execution_count": 39,
   "id": "4115e670-56db-46c3-a63c-7a741a18667d",
   "metadata": {},
   "outputs": [
    {
     "name": "stdin",
     "output_type": "stream",
     "text": [
      "Enter your string to check palindrome yyyy\n"
     ]
    },
    {
     "name": "stdout",
     "output_type": "stream",
     "text": [
      "Your string is palindrome.\n"
     ]
    }
   ],
   "source": [
    "# 4. palindrome program\n",
    "user_string = input(\"Enter your string to check palindrome\")\n",
    "\n",
    "# cleaning string by removing spaces and converting in to lower case\n",
    "cleaned_string = user_string.replace(\" \", \"\").lower()\n",
    "\n",
    "# reverse cleaned string by using slicing\n",
    "reversed_string = cleaned_string[::-1]\n",
    "\n",
    "# checking reversed string is equal to cleaned string for palindrome\n",
    "if reversed_string == cleaned_string:\n",
    "    print(\"Your string is palindrome.\")\n",
    "else :\n",
    "    print(\"your string is not palindrome.\")    "
   ]
  },
  {
   "cell_type": "code",
   "execution_count": 43,
   "id": "82b13666-b8c0-4170-bd56-7841a7469056",
   "metadata": {},
   "outputs": [
    {
     "name": "stdin",
     "output_type": "stream",
     "text": [
      "Enter your string this is it\n"
     ]
    },
    {
     "name": "stdout",
     "output_type": "stream",
     "text": [
      "Modified string thisisit\n"
     ]
    }
   ],
   "source": [
    "# 5. modify the string without space\n",
    "new_string = input(\"Enter your string\")\n",
    "\n",
    "# intialising variable to store string without space\n",
    "modified_string = \"\"\n",
    "\n",
    "# check for user_string\n",
    "for char in new_string:\n",
    "    if char != \" \":\n",
    "        modified_string += char\n",
    "        \n",
    "# displaying result\n",
    "print(\"Modified string\", modified_string)"
   ]
  },
  {
   "cell_type": "code",
   "execution_count": null,
   "id": "a95a9dc3-23ad-4b15-9681-cf3b3485a2fd",
   "metadata": {},
   "outputs": [],
   "source": []
  }
 ],
 "metadata": {
  "kernelspec": {
   "display_name": "Python 3 (ipykernel)",
   "language": "python",
   "name": "python3"
  },
  "language_info": {
   "codemirror_mode": {
    "name": "ipython",
    "version": 3
   },
   "file_extension": ".py",
   "mimetype": "text/x-python",
   "name": "python",
   "nbconvert_exporter": "python",
   "pygments_lexer": "ipython3",
   "version": "3.10.8"
  }
 },
 "nbformat": 4,
 "nbformat_minor": 5
}
